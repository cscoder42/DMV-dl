{
 "cells": [
  {
   "cell_type": "code",
   "execution_count": 1,
   "metadata": {},
   "outputs": [],
   "source": [
    "# Import Selenium Libraries:\n",
    "from selenium import webdriver\n",
    "from selenium.webdriver.support.ui import Select"
   ]
  },
  {
   "cell_type": "code",
   "execution_count": 2,
   "metadata": {},
   "outputs": [],
   "source": [
    "# Office Name --> Office Key\n",
    "officeKeys = {'ALTURAS': '537', 'ARLETA': '587', 'ARVIN': '661', 'AUBURN': '570', 'BAKERSFIELD': '529', 'BAKERSFIELD SW': '679', 'BANNING': '641', 'BARSTOW': '582', 'BELL GARDENS': '576', 'BELLFLOWER': '606', 'BISHOP': '585', 'BLYTHE': '528', 'BRAWLEY': '597', 'CAPITOLA': '550', 'CARMICHAEL' : '625', 'CHICO': '520', 'CHULA VISTA': '613', 'CLOVIS': '580', 'COALINGA': '603', 'COLUSA': '564', 'COMPTON': '581', 'CONCORD': '523', 'CORTE MADERA': '534', 'COSTA MESA': '628', 'CRESCENT CITY': '524', 'CULVER CITY': '514', 'DALY CITY': '599', 'DAVIS': '598', 'DELANO': '615', 'EL CAJON': '669', 'EL CENTRO': '527', 'EL CERRITO': '556', 'EL MONTE': '685', 'EUREKA': '526', 'FAIRFIELD': '621', 'FALL RIVER MILLS': '643', 'FOLSOM': '655', 'FONTANA': '657', 'FORT BRAGG': '590', 'FREMONT': '644', 'FRESNO': '505', 'FRESNO NORTH': '646', 'FULLERTON': '607', 'GARBERVILLE': '627', 'GARDENA CDTC': '498', 'GILROY': '623', 'GLENDALE': '510', 'GOLETA': '670', 'GRANADA HILLS DLPC': '693', 'GRASS VALLEY': '541', 'HANFORD': '565', 'HAWTHORNE': '609', 'HAYWARD': '579', 'HEMET': '635', 'HOLLISTER': '546', 'HOLLYWOOD': '508', 'HOLLYWOOD WEST': '652', 'INDIO': '578', 'INGLEWOOD': '610', 'JACKSON': '521', 'KING CITY': '647', 'LAGUNA HILLS': '605', 'LAKE ISABELLA': '687', 'LAKEPORT': '530', 'LANCASTER': '595', 'LINCOLN PARK': '617', 'LODI': '622', 'LOMPOC': '692', 'LONG BEACH': '507', 'LOS ANGELES': '502', 'LOS BANOS': '650', 'LOS GATOS': '640', 'MADERA': '533', 'MANTECA': '658', 'MARIPOSA': '566', 'MERCED': '536', 'MODESTO': '557', 'MONTEBELLO': '511', 'MOUNT SHASTA': '639', 'NAPA': '540', 'NEEDLES': '584', 'NEWHALL': '662', 'NORCO': '586', 'NOVATO': '686', 'OAKLAND CLAREMONT': '504', 'OAKLAND COLISEUM': '604', 'OCEANSIDE': '596', 'OROVILLE': '522', 'OXNARD': '636', 'PALM DESERT': '683', 'PALM SPRINGS': '659', 'PARADISE': '601', 'PASADENA': '509', 'PASO ROBLES': '574', 'PETALUMA': '634', 'PITTSBURG': '592', 'PLACERVILLE': '525', 'PLEASANTON': '631', 'POMONA': '532', 'PORTERVILLE': '573', 'POWAY': '676', 'QUINCY': '544', 'RANCHO CUCAMONGA': '612', 'REB BLUFF': '558', 'REDDING': '551', 'REDLANDS': '626', 'REDWOOD CITY': '548', 'REEDLEY': '633', 'RIDGECREST': '577', 'RIVERSIDE': '545', 'RIVERSIDE EAST': '656', 'ROCKLIN': '673', 'ROSEVILLE': '543', 'SACRAMENTO': '501', 'SACROMENTO SOUTH': '602', 'SALINAS': '539', 'SAN ANDREAS': '568', 'SAN BERNARDINO': '512', 'SAN CLEMENTE': '648', 'SAN DIEGO': '506', 'SAN DIEGO CLAIREMONT': '519', 'SAN FRANCISCO': '503', 'SAN JOSE': '516', 'SAN JOSE DLPC': '645', 'SAN LUIS OBISPO': '547', 'SAN MARCOS RACHEROS': '689', 'SAN MATEO': '593', 'SAN PEDRO': '619', 'SAN YSIDRO': '677', 'SANTA ANA': '542', 'SANTA BARBARA': '549', 'SANTA CLARA': '632', 'SANTA MARIA': '563', 'SANTA MONICA': '616', 'SANTA PAULA': '630', 'SANTA ROSA': '555', 'SANTA TERESA': '668', 'SEASIDE': '567', 'SHAFTER': '660', 'SIMI VALLEY': '680', 'SONORA': '569', 'SOUTH LAKE TAHOE': '538', 'STANTON DLPC': '698', 'STOCKTON': '517', 'SUSANVILLE': '531', 'TAFT': '575', 'TEMECULA': '672', 'THOUSAND OAKS': '663', 'TORRANCE': '608', 'TRACY': '642', 'TRUCKEE': '513', 'TULARE': '594', 'TULELAKE': '553', 'TURLOCK': '649', 'TWENTYNINE PALMS': '638', 'UKIAH': '535', 'VACAVILLE': '588', 'VALLEJO': '554', 'VAN NUYS': '515', 'VENTURA': '560', 'VICTORVILLE': '629', 'VISALIA': '559', 'WALNUT CREEK': '624', 'WATSONVILLE': '583', 'WEAVERVILLE': '572', 'WEST COVINA': '618', 'WESTMINSTER': '611', 'WHITTIER': '591', 'WILLOWS': '571', 'WINNETKA': '637', 'WOODLAND': '561', 'YREKA': '552', 'YUBA CITY': '562'}"
   ]
  },
  {
   "cell_type": "code",
   "execution_count": 3,
   "metadata": {},
   "outputs": [],
   "source": [
    "# Information Login Step - Input: City Name\n",
    "def information_input(city):\n",
    "    office = browser.find_element_by_id('officeId')\n",
    "    Select(office).select_by_value(officeKeys[city])\n",
    "    test_type = browser.find_element_by_id('DT')\n",
    "    test_type.click()\n",
    "    first_name = browser.find_element_by_id('firstName')\n",
    "    first_name.send_keys('JANE')\n",
    "    last_name = browser.find_element_by_id('lastName')\n",
    "    last_name.send_keys('DOE')\n",
    "    dl_number = browser.find_element_by_id('dl_number')\n",
    "    dl_number.send_keys('X1234567')\n",
    "    birth = browser.find_element_by_id('birthMonth')\n",
    "    birth.send_keys('02292000')\n",
    "    tel = browser.find_element_by_id('areaCode')\n",
    "    tel.send_keys('5559876543')\n",
    "    browser.find_element_by_css_selector('.btn-primary').click()\n",
    "    \n",
    "# Call Example: information_input('ALTURAS')"
   ]
  },
  {
   "cell_type": "code",
   "execution_count": 5,
   "metadata": {},
   "outputs": [],
   "source": [
    "# Appointment Select - Appointment Text Read\n",
    "def parse_appointment():\n",
    "    appointments = browser.find_element_by_class_name('col-sm-12').find_elements_by_xpath('.//td')[1]\n",
    "    info = appointments.find_elements_by_xpath('./p')[-1]\n",
    "    return info.text"
   ]
  },
  {
   "cell_type": "code",
   "execution_count": 7,
   "metadata": {},
   "outputs": [],
   "source": [
    "# Parse Date Formats\n",
    "month_to_num = {'Jan': 1, 'Feb': 2, 'Mar': 3, 'Apr': 4, 'May': 5, 'Jun': 6, 'Jul': 7, 'Aug': 8, 'Sep': 9, 'Oct': 10, 'Nov': 11, 'Dec': 12}\n",
    "\n",
    "import re\n",
    "def parse_date_simple(date_string): #Month/Day/Year\n",
    "    pattern = re.compile(\"(?P<month>\\w*)/(?P<day>\\w*)/(?P<year>\\w*)\")\n",
    "    match = pattern.match(date_string)\n",
    "    month = int(match.group(\"month\"))\n",
    "    day = int(match.group(\"day\"))\n",
    "    year = int(match.group(\"year\"))\n",
    "    return (month, day, year)\n",
    "\n",
    "def parse_date_complex(date_string): #Month Day, Year at Hour:Minute AM/PM\n",
    "    pattern = re.compile(\"(?P<month>\\w*)\\s(?P<day>\\w*),\\s(?P<year>\\w*)\\sat\\s(?P<hour>\\w*):(?P<minute>\\w*)\\s(?P<mrdn>\\w*)\")\n",
    "    match = pattern.match(date_string)\n",
    "    month = int(month_to_num[match.group(\"month\")])\n",
    "    day = int(match.group(\"day\"))\n",
    "    year = int(match.group(\"year\"))\n",
    "    hour = int(match.group(\"hour\"))\n",
    "    minute = int(match.group(\"minute\"))\n",
    "    mrdn = 0\n",
    "    if (match.group(\"mrdn\") == 'PM'): mrdn = 1\n",
    "    return (month, day, year, hour, minute, mrdn)\n",
    "\n",
    "# Simple Call Example: print(parse_date_simple('02/29/2000'))\n",
    "# Complex Call Example: print(parse_date_complex(\"Feb 29, 2000 at 12:00 AM\"))"
   ]
  },
  {
   "cell_type": "code",
   "execution_count": 8,
   "metadata": {},
   "outputs": [],
   "source": [
    "# Appointment Search Algorithm - Utilizes provided information from Appointment Text to find all available appointments\n",
    "def get_all_appointments():\n",
    "    dates = []\n",
    "    month = 0\n",
    "    day = 0\n",
    "    \n",
    "    curr_month = browser.find_element_by_class_name('ng_cal_month_table').find_elements_by_xpath('.//td')[13].get_attribute('rel') #i.e. 11/4/15\n",
    "    curr_month = parse_date_simple(curr_month)[0]\n",
    "    \n",
    "    while month < 4:\n",
    "        # Initialize variables of next available date\n",
    "        query = parse_appointment()\n",
    "        if (len(query) > 80):\n",
    "            return dates\n",
    "        date_data = parse_date_complex(query)\n",
    "        month = date_data[0]\n",
    "        day = date_data[1]\n",
    "    \n",
    "        #Go to month and use a reference to calculate corresponding date\n",
    "        month = (month - curr_month) % 12\n",
    "        browser.find_element_by_class_name('ng_cal_input_field').click()\n",
    "        next = browser.find_element_by_class_name(\"ng_cal_right_month_td\") # move across months\n",
    "        for repeat in range(month):\n",
    "            next.click()\n",
    "        calendar_table = browser.find_element_by_class_name('ng_cal_month_table')\n",
    "        items = calendar_table.find_elements_by_xpath('.//td')\n",
    "        rel_day = parse_date_simple(items[13].get_attribute('rel'))[1] # day at arbitrary valid position 13 (i.e. 2)\n",
    "        day = 6 + (day - rel_day) \n",
    "            \n",
    "        time = 800\n",
    "        while time < 1700:\n",
    "            item = items[day + 7] # select date\n",
    "            item.click()\n",
    "            \n",
    "            time_string = str(time) # select time\n",
    "            if (time < 1000):\n",
    "                time_string = '0' + time_string\n",
    "            time = browser.find_element_by_id('requestedTime')\n",
    "            Select(time).select_by_value(time_string)\n",
    "            browser.find_element_by_id('requestedTime').click() # dummy click to reset\n",
    "            browser.find_element_by_id(\"checkAvail\").click() # evaluate\n",
    "                \n",
    "            # Check status of update appointment times\n",
    "            query = parse_appointment()\n",
    "\n",
    "            # Go back to month after query and reupdate assets\n",
    "            browser.find_element_by_class_name('ng_cal_input_field').click() # date bar\n",
    "            next = browser.find_element_by_class_name(\"ng_cal_right_month_td\") # move across months\n",
    "            for repeat in range(month):\n",
    "                next.click()\n",
    "            calendar_table = browser.find_element_by_class_name('ng_cal_month_table')\n",
    "            items = calendar_table.find_elements_by_xpath('.//td')\n",
    "            \n",
    "            if (len(query) < 80): # has available slot\n",
    "                print(query)\n",
    "                dates.append(query)\n",
    "                data = parse_date_complex(query)\n",
    "                time = data[3] * 100 + data[5] * 1200 # hour * 100 + (am/pm) * 1200\n",
    "                if (data[4] < 30):\n",
    "                    time += 30\n",
    "                else :\n",
    "                    time += 100\n",
    "            else: # no more slots for this particular day\n",
    "                break\n",
    "                \n",
    "        month, day = go_next_available_day(month, day + 1)\n",
    "    return dates"
   ]
  },
  {
   "cell_type": "code",
   "execution_count": 9,
   "metadata": {},
   "outputs": [],
   "source": [
    "# Appointment Search Helper - Go to next available selectable date on calendar\n",
    "# Input State: Calendar Open at Current Month/Date \n",
    "def go_next_available_day(curr_month, curr_day):\n",
    "    browser.find_element_by_class_name('ng_cal_input_field').click()\n",
    "    next = browser.find_element_by_class_name(\"ng_cal_right_month_td\")\n",
    "    while curr_month < 4:\n",
    "        calendar_table = browser.find_element_by_class_name('ng_cal_month_table')\n",
    "        items = calendar_table.find_elements_by_xpath('.//td')\n",
    "        while curr_day < 35:\n",
    "            item = items[curr_day + 7]\n",
    "            if (\"ng_cal_selectable\" in item.get_attribute(\"class\")):\n",
    "                item.click()\n",
    "                browser.find_element_by_id('requestedTime').click() # dummy click to reset\n",
    "                browser.find_element_by_id(\"checkAvail\").click()\n",
    "                return (curr_month, curr_day)\n",
    "            curr_day += 1\n",
    "        next.click()\n",
    "        curr_day = 0\n",
    "        curr_month += 1       \n",
    "    return (curr_month, curr_day)"
   ]
  },
  {
   "cell_type": "code",
   "execution_count": 12,
   "metadata": {},
   "outputs": [
    {
     "name": "stdout",
     "output_type": "stream",
     "text": [
      "HAYWARD DMV\n"
     ]
    },
    {
     "ename": "NoSuchElementException",
     "evalue": "Message: no such element: Unable to locate element: {\"method\":\"css selector\",\"selector\":\".ng_cal_month_table\"}\n  (Session info: chrome=78.0.3904.108)\n",
     "output_type": "error",
     "traceback": [
      "\u001b[1;31m---------------------------------------------------------------------------\u001b[0m",
      "\u001b[1;31mNoSuchElementException\u001b[0m                    Traceback (most recent call last)",
      "\u001b[1;32m<ipython-input-12-43fbae99e393>\u001b[0m in \u001b[0;36m<module>\u001b[1;34m\u001b[0m\n\u001b[0;32m      3\u001b[0m \u001b[0mprint\u001b[0m\u001b[1;33m(\u001b[0m\u001b[1;34m'HAYWARD'\u001b[0m \u001b[1;33m+\u001b[0m \u001b[1;34m' DMV'\u001b[0m\u001b[1;33m)\u001b[0m\u001b[1;33m\u001b[0m\u001b[1;33m\u001b[0m\u001b[0m\n\u001b[0;32m      4\u001b[0m \u001b[0minformation_input\u001b[0m\u001b[1;33m(\u001b[0m\u001b[1;34m'HAYWARD'\u001b[0m\u001b[1;33m)\u001b[0m\u001b[1;33m\u001b[0m\u001b[1;33m\u001b[0m\u001b[0m\n\u001b[1;32m----> 5\u001b[1;33m \u001b[0mprint\u001b[0m\u001b[1;33m(\u001b[0m\u001b[1;34m\"Total available appointments: \"\u001b[0m\u001b[1;33m,\u001b[0m \u001b[0mlen\u001b[0m\u001b[1;33m(\u001b[0m\u001b[0mget_all_appointments\u001b[0m\u001b[1;33m(\u001b[0m\u001b[1;33m)\u001b[0m\u001b[1;33m)\u001b[0m\u001b[1;33m)\u001b[0m\u001b[1;33m\u001b[0m\u001b[1;33m\u001b[0m\u001b[0m\n\u001b[0m\u001b[0;32m      6\u001b[0m \u001b[0mbrowser\u001b[0m\u001b[1;33m.\u001b[0m\u001b[0mquit\u001b[0m\u001b[1;33m(\u001b[0m\u001b[1;33m)\u001b[0m\u001b[1;33m\u001b[0m\u001b[1;33m\u001b[0m\u001b[0m\n",
      "\u001b[1;32m<ipython-input-8-a9f757d963f7>\u001b[0m in \u001b[0;36mget_all_appointments\u001b[1;34m()\u001b[0m\n\u001b[0;32m      5\u001b[0m     \u001b[0mday\u001b[0m \u001b[1;33m=\u001b[0m \u001b[1;36m0\u001b[0m\u001b[1;33m\u001b[0m\u001b[1;33m\u001b[0m\u001b[0m\n\u001b[0;32m      6\u001b[0m \u001b[1;33m\u001b[0m\u001b[0m\n\u001b[1;32m----> 7\u001b[1;33m     \u001b[0mcurr_month\u001b[0m \u001b[1;33m=\u001b[0m \u001b[0mbrowser\u001b[0m\u001b[1;33m.\u001b[0m\u001b[0mfind_element_by_class_name\u001b[0m\u001b[1;33m(\u001b[0m\u001b[1;34m'ng_cal_month_table'\u001b[0m\u001b[1;33m)\u001b[0m\u001b[1;33m.\u001b[0m\u001b[0mfind_elements_by_xpath\u001b[0m\u001b[1;33m(\u001b[0m\u001b[1;34m'.//td'\u001b[0m\u001b[1;33m)\u001b[0m\u001b[1;33m[\u001b[0m\u001b[1;36m13\u001b[0m\u001b[1;33m]\u001b[0m\u001b[1;33m.\u001b[0m\u001b[0mget_attribute\u001b[0m\u001b[1;33m(\u001b[0m\u001b[1;34m'rel'\u001b[0m\u001b[1;33m)\u001b[0m \u001b[1;31m#i.e. 11/4/15\u001b[0m\u001b[1;33m\u001b[0m\u001b[1;33m\u001b[0m\u001b[0m\n\u001b[0m\u001b[0;32m      8\u001b[0m     \u001b[0mcurr_month\u001b[0m \u001b[1;33m=\u001b[0m \u001b[0mparse_date_simple\u001b[0m\u001b[1;33m(\u001b[0m\u001b[0mcurr_month\u001b[0m\u001b[1;33m)\u001b[0m\u001b[1;33m[\u001b[0m\u001b[1;36m0\u001b[0m\u001b[1;33m]\u001b[0m\u001b[1;33m\u001b[0m\u001b[1;33m\u001b[0m\u001b[0m\n\u001b[0;32m      9\u001b[0m \u001b[1;33m\u001b[0m\u001b[0m\n",
      "\u001b[1;32m~\\Anaconda3\\lib\\site-packages\\selenium\\webdriver\\remote\\webdriver.py\u001b[0m in \u001b[0;36mfind_element_by_class_name\u001b[1;34m(self, name)\u001b[0m\n\u001b[0;32m    562\u001b[0m             \u001b[0melement\u001b[0m \u001b[1;33m=\u001b[0m \u001b[0mdriver\u001b[0m\u001b[1;33m.\u001b[0m\u001b[0mfind_element_by_class_name\u001b[0m\u001b[1;33m(\u001b[0m\u001b[1;34m'foo'\u001b[0m\u001b[1;33m)\u001b[0m\u001b[1;33m\u001b[0m\u001b[1;33m\u001b[0m\u001b[0m\n\u001b[0;32m    563\u001b[0m         \"\"\"\n\u001b[1;32m--> 564\u001b[1;33m         \u001b[1;32mreturn\u001b[0m \u001b[0mself\u001b[0m\u001b[1;33m.\u001b[0m\u001b[0mfind_element\u001b[0m\u001b[1;33m(\u001b[0m\u001b[0mby\u001b[0m\u001b[1;33m=\u001b[0m\u001b[0mBy\u001b[0m\u001b[1;33m.\u001b[0m\u001b[0mCLASS_NAME\u001b[0m\u001b[1;33m,\u001b[0m \u001b[0mvalue\u001b[0m\u001b[1;33m=\u001b[0m\u001b[0mname\u001b[0m\u001b[1;33m)\u001b[0m\u001b[1;33m\u001b[0m\u001b[1;33m\u001b[0m\u001b[0m\n\u001b[0m\u001b[0;32m    565\u001b[0m \u001b[1;33m\u001b[0m\u001b[0m\n\u001b[0;32m    566\u001b[0m     \u001b[1;32mdef\u001b[0m \u001b[0mfind_elements_by_class_name\u001b[0m\u001b[1;33m(\u001b[0m\u001b[0mself\u001b[0m\u001b[1;33m,\u001b[0m \u001b[0mname\u001b[0m\u001b[1;33m)\u001b[0m\u001b[1;33m:\u001b[0m\u001b[1;33m\u001b[0m\u001b[1;33m\u001b[0m\u001b[0m\n",
      "\u001b[1;32m~\\Anaconda3\\lib\\site-packages\\selenium\\webdriver\\remote\\webdriver.py\u001b[0m in \u001b[0;36mfind_element\u001b[1;34m(self, by, value)\u001b[0m\n\u001b[0;32m    976\u001b[0m         return self.execute(Command.FIND_ELEMENT, {\n\u001b[0;32m    977\u001b[0m             \u001b[1;34m'using'\u001b[0m\u001b[1;33m:\u001b[0m \u001b[0mby\u001b[0m\u001b[1;33m,\u001b[0m\u001b[1;33m\u001b[0m\u001b[1;33m\u001b[0m\u001b[0m\n\u001b[1;32m--> 978\u001b[1;33m             'value': value})['value']\n\u001b[0m\u001b[0;32m    979\u001b[0m \u001b[1;33m\u001b[0m\u001b[0m\n\u001b[0;32m    980\u001b[0m     \u001b[1;32mdef\u001b[0m \u001b[0mfind_elements\u001b[0m\u001b[1;33m(\u001b[0m\u001b[0mself\u001b[0m\u001b[1;33m,\u001b[0m \u001b[0mby\u001b[0m\u001b[1;33m=\u001b[0m\u001b[0mBy\u001b[0m\u001b[1;33m.\u001b[0m\u001b[0mID\u001b[0m\u001b[1;33m,\u001b[0m \u001b[0mvalue\u001b[0m\u001b[1;33m=\u001b[0m\u001b[1;32mNone\u001b[0m\u001b[1;33m)\u001b[0m\u001b[1;33m:\u001b[0m\u001b[1;33m\u001b[0m\u001b[1;33m\u001b[0m\u001b[0m\n",
      "\u001b[1;32m~\\Anaconda3\\lib\\site-packages\\selenium\\webdriver\\remote\\webdriver.py\u001b[0m in \u001b[0;36mexecute\u001b[1;34m(self, driver_command, params)\u001b[0m\n\u001b[0;32m    319\u001b[0m         \u001b[0mresponse\u001b[0m \u001b[1;33m=\u001b[0m \u001b[0mself\u001b[0m\u001b[1;33m.\u001b[0m\u001b[0mcommand_executor\u001b[0m\u001b[1;33m.\u001b[0m\u001b[0mexecute\u001b[0m\u001b[1;33m(\u001b[0m\u001b[0mdriver_command\u001b[0m\u001b[1;33m,\u001b[0m \u001b[0mparams\u001b[0m\u001b[1;33m)\u001b[0m\u001b[1;33m\u001b[0m\u001b[1;33m\u001b[0m\u001b[0m\n\u001b[0;32m    320\u001b[0m         \u001b[1;32mif\u001b[0m \u001b[0mresponse\u001b[0m\u001b[1;33m:\u001b[0m\u001b[1;33m\u001b[0m\u001b[1;33m\u001b[0m\u001b[0m\n\u001b[1;32m--> 321\u001b[1;33m             \u001b[0mself\u001b[0m\u001b[1;33m.\u001b[0m\u001b[0merror_handler\u001b[0m\u001b[1;33m.\u001b[0m\u001b[0mcheck_response\u001b[0m\u001b[1;33m(\u001b[0m\u001b[0mresponse\u001b[0m\u001b[1;33m)\u001b[0m\u001b[1;33m\u001b[0m\u001b[1;33m\u001b[0m\u001b[0m\n\u001b[0m\u001b[0;32m    322\u001b[0m             response['value'] = self._unwrap_value(\n\u001b[0;32m    323\u001b[0m                 response.get('value', None))\n",
      "\u001b[1;32m~\\Anaconda3\\lib\\site-packages\\selenium\\webdriver\\remote\\errorhandler.py\u001b[0m in \u001b[0;36mcheck_response\u001b[1;34m(self, response)\u001b[0m\n\u001b[0;32m    240\u001b[0m                 \u001b[0malert_text\u001b[0m \u001b[1;33m=\u001b[0m \u001b[0mvalue\u001b[0m\u001b[1;33m[\u001b[0m\u001b[1;34m'alert'\u001b[0m\u001b[1;33m]\u001b[0m\u001b[1;33m.\u001b[0m\u001b[0mget\u001b[0m\u001b[1;33m(\u001b[0m\u001b[1;34m'text'\u001b[0m\u001b[1;33m)\u001b[0m\u001b[1;33m\u001b[0m\u001b[1;33m\u001b[0m\u001b[0m\n\u001b[0;32m    241\u001b[0m             \u001b[1;32mraise\u001b[0m \u001b[0mexception_class\u001b[0m\u001b[1;33m(\u001b[0m\u001b[0mmessage\u001b[0m\u001b[1;33m,\u001b[0m \u001b[0mscreen\u001b[0m\u001b[1;33m,\u001b[0m \u001b[0mstacktrace\u001b[0m\u001b[1;33m,\u001b[0m \u001b[0malert_text\u001b[0m\u001b[1;33m)\u001b[0m\u001b[1;33m\u001b[0m\u001b[1;33m\u001b[0m\u001b[0m\n\u001b[1;32m--> 242\u001b[1;33m         \u001b[1;32mraise\u001b[0m \u001b[0mexception_class\u001b[0m\u001b[1;33m(\u001b[0m\u001b[0mmessage\u001b[0m\u001b[1;33m,\u001b[0m \u001b[0mscreen\u001b[0m\u001b[1;33m,\u001b[0m \u001b[0mstacktrace\u001b[0m\u001b[1;33m)\u001b[0m\u001b[1;33m\u001b[0m\u001b[1;33m\u001b[0m\u001b[0m\n\u001b[0m\u001b[0;32m    243\u001b[0m \u001b[1;33m\u001b[0m\u001b[0m\n\u001b[0;32m    244\u001b[0m     \u001b[1;32mdef\u001b[0m \u001b[0m_value_or_default\u001b[0m\u001b[1;33m(\u001b[0m\u001b[0mself\u001b[0m\u001b[1;33m,\u001b[0m \u001b[0mobj\u001b[0m\u001b[1;33m,\u001b[0m \u001b[0mkey\u001b[0m\u001b[1;33m,\u001b[0m \u001b[0mdefault\u001b[0m\u001b[1;33m)\u001b[0m\u001b[1;33m:\u001b[0m\u001b[1;33m\u001b[0m\u001b[1;33m\u001b[0m\u001b[0m\n",
      "\u001b[1;31mNoSuchElementException\u001b[0m: Message: no such element: Unable to locate element: {\"method\":\"css selector\",\"selector\":\".ng_cal_month_table\"}\n  (Session info: chrome=78.0.3904.108)\n"
     ]
    }
   ],
   "source": [
    "browser = webdriver.Chrome() # open browser (Chrome)\n",
    "browser.get('http://www.dmv.ca.gov/wasapp/foa/driveTest.do') # driving test appointment website\n",
    "print('<location>' + ' DMV')\n",
    "information_input('<location>')\n",
    "print(\"Total available appointments: \", len(get_all_appointments()))\n",
    "browser.quit()"
   ]
  },
  {
   "cell_type": "code",
   "execution_count": null,
   "metadata": {},
   "outputs": [],
   "source": []
  }
 ],
 "metadata": {
  "kernelspec": {
   "display_name": "Python 3",
   "language": "python",
   "name": "python3"
  },
  "language_info": {
   "codemirror_mode": {
    "name": "ipython",
    "version": 3
   },
   "file_extension": ".py",
   "mimetype": "text/x-python",
   "name": "python",
   "nbconvert_exporter": "python",
   "pygments_lexer": "ipython3",
   "version": "3.7.1"
  }
 },
 "nbformat": 4,
 "nbformat_minor": 2
}
